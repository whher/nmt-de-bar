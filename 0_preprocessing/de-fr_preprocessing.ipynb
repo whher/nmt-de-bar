{
 "cells": [
  {
   "cell_type": "code",
   "execution_count": 1,
   "id": "92118493-e8a4-4c79-be37-fbd367c0815d",
   "metadata": {},
   "outputs": [
    {
     "name": "stdout",
     "output_type": "stream",
     "text": [
      "Collecting nltk\n",
      "  Using cached nltk-3.7-py3-none-any.whl (1.5 MB)\n",
      "Requirement already satisfied: joblib in /opt/conda/lib/python3.9/site-packages (from nltk) (1.1.0)\n",
      "Requirement already satisfied: click in /opt/conda/lib/python3.9/site-packages (from nltk) (8.1.3)\n",
      "Requirement already satisfied: tqdm in /opt/conda/lib/python3.9/site-packages (from nltk) (4.64.0)\n",
      "Collecting regex>=2021.8.3\n",
      "  Downloading regex-2022.10.31-cp39-cp39-manylinux_2_17_x86_64.manylinux2014_x86_64.whl (769 kB)\n",
      "\u001b[2K     \u001b[90m━━━━━━━━━━━━━━━━━━━━━━━━━━━━━━━━━━━━━━━\u001b[0m \u001b[32m770.0/770.0 kB\u001b[0m \u001b[31m8.3 MB/s\u001b[0m eta \u001b[36m0:00:00\u001b[0ma \u001b[36m0:00:01\u001b[0m\n",
      "\u001b[?25hInstalling collected packages: regex, nltk\n",
      "Successfully installed nltk-3.7 regex-2022.10.31\n"
     ]
    }
   ],
   "source": [
    "!pip install nltk"
   ]
  },
  {
   "cell_type": "code",
   "execution_count": 1,
   "id": "e66a813e-0ce7-4751-a5b5-52a3b68a37dd",
   "metadata": {},
   "outputs": [],
   "source": [
    "import pandas as pd\n",
    "import seaborn as sns\n",
    "import glob\n",
    "import re\n",
    "import math\n",
    "from collections import Counter\n",
    "import numpy as np\n",
    "from sklearn.model_selection import train_test_split\n",
    "from nltk.tokenize import word_tokenize"
   ]
  },
  {
   "cell_type": "code",
   "execution_count": 4,
   "id": "bfabe9d4-ea7a-4829-821d-b17c1f5e1906",
   "metadata": {},
   "outputs": [],
   "source": [
    "de_files = sorted(glob.glob(\"de-fr/raw/*.de\"))\n",
    "fr_files = sorted(glob.glob(\"de-fr/raw/*.fr\"))"
   ]
  },
  {
   "cell_type": "code",
   "execution_count": 5,
   "id": "b8cc0a56-3406-4cb7-9a29-12b70ca53c27",
   "metadata": {},
   "outputs": [
    {
     "name": "stdout",
     "output_type": "stream",
     "text": [
      "['de-fr/raw/Tatoeba.de-fr.de', 'de-fr/raw/wikimedia.de-fr.de']\n",
      "['de-fr/raw/Tatoeba.de-fr.fr', 'de-fr/raw/wikimedia.de-fr.fr']\n"
     ]
    }
   ],
   "source": [
    "print(de_files)\n",
    "print(fr_files)"
   ]
  },
  {
   "cell_type": "code",
   "execution_count": 6,
   "id": "c52c53cf-9546-449b-894d-1e7223d48898",
   "metadata": {},
   "outputs": [],
   "source": [
    "# read files and split into lines\n",
    "\n",
    "de_lines = []\n",
    "\n",
    "for file in de_files:\n",
    "    with open(file) as f:\n",
    "        for line in f.readlines():\n",
    "            de_lines.append(line.rstrip(\" \\n\"))\n",
    "            \n",
    "fr_lines = []\n",
    "\n",
    "for file in fr_files:\n",
    "    with open(file) as f:\n",
    "        for line in f.readlines():\n",
    "            fr_lines.append(line.rstrip(\" \\n\"))"
   ]
  },
  {
   "cell_type": "code",
   "execution_count": 7,
   "id": "5397e1ad-aa93-4e99-b182-90c1289f78cb",
   "metadata": {},
   "outputs": [
    {
     "name": "stdout",
     "output_type": "stream",
     "text": [
      "185577\n",
      "185577\n"
     ]
    }
   ],
   "source": [
    "# check length\n",
    "\n",
    "print(len(de_lines))\n",
    "print(len(fr_lines))"
   ]
  },
  {
   "cell_type": "code",
   "execution_count": 8,
   "id": "ffbb4979-67b6-44a5-82d2-f447390582ee",
   "metadata": {},
   "outputs": [
    {
     "name": "stdout",
     "output_type": "stream",
     "text": [
      "Erzähl meinem jungen Freund doch eine schöne Geschichte.\n",
      "Raconte donc une belle histoire à mon jeune ami.\n"
     ]
    }
   ],
   "source": [
    "# randomly check aligned text\n",
    "\n",
    "print(de_lines[42208])\n",
    "print(fr_lines[42208])"
   ]
  },
  {
   "cell_type": "code",
   "execution_count": 9,
   "id": "7e414a58-f40a-4633-bdb7-420399f7f624",
   "metadata": {},
   "outputs": [
    {
     "data": {
      "text/html": [
       "<div>\n",
       "<style scoped>\n",
       "    .dataframe tbody tr th:only-of-type {\n",
       "        vertical-align: middle;\n",
       "    }\n",
       "\n",
       "    .dataframe tbody tr th {\n",
       "        vertical-align: top;\n",
       "    }\n",
       "\n",
       "    .dataframe thead th {\n",
       "        text-align: right;\n",
       "    }\n",
       "</style>\n",
       "<table border=\"1\" class=\"dataframe\">\n",
       "  <thead>\n",
       "    <tr style=\"text-align: right;\">\n",
       "      <th></th>\n",
       "      <th>de</th>\n",
       "      <th>fr</th>\n",
       "    </tr>\n",
       "  </thead>\n",
       "  <tbody>\n",
       "    <tr>\n",
       "      <th>0</th>\n",
       "      <td>Lass uns etwas versuchen!</td>\n",
       "      <td>Essayons quelque chose !</td>\n",
       "    </tr>\n",
       "    <tr>\n",
       "      <th>1</th>\n",
       "      <td>Lass uns etwas versuchen!</td>\n",
       "      <td>Tentons quelque chose !</td>\n",
       "    </tr>\n",
       "    <tr>\n",
       "      <th>2</th>\n",
       "      <td>Ich muss schlafen gehen.</td>\n",
       "      <td>Je dois aller dormir.</td>\n",
       "    </tr>\n",
       "    <tr>\n",
       "      <th>3</th>\n",
       "      <td>Was ist das?</td>\n",
       "      <td>Qu'est-ce que c'est ?</td>\n",
       "    </tr>\n",
       "    <tr>\n",
       "      <th>4</th>\n",
       "      <td>Was ist das?</td>\n",
       "      <td>C'est quoi ?</td>\n",
       "    </tr>\n",
       "  </tbody>\n",
       "</table>\n",
       "</div>"
      ],
      "text/plain": [
       "                          de                        fr\n",
       "0  Lass uns etwas versuchen!  Essayons quelque chose !\n",
       "1  Lass uns etwas versuchen!   Tentons quelque chose !\n",
       "2   Ich muss schlafen gehen.     Je dois aller dormir.\n",
       "3               Was ist das?     Qu'est-ce que c'est ?\n",
       "4               Was ist das?              C'est quoi ?"
      ]
     },
     "execution_count": 9,
     "metadata": {},
     "output_type": "execute_result"
    }
   ],
   "source": [
    "de_fr_df = pd.DataFrame(de_lines, columns = [\"de\"])\n",
    "de_fr_df[\"fr\"] = fr_lines\n",
    "de_fr_df.head()"
   ]
  },
  {
   "cell_type": "code",
   "execution_count": 10,
   "id": "c201ba87-8f70-43c3-830e-9c638cf0dd2c",
   "metadata": {},
   "outputs": [],
   "source": [
    "def preprocess(text):\n",
    "    \n",
    "    text = str(text).lower()\n",
    "    \n",
    "    # remove parenthesized texts\n",
    "    text = re.sub(r\"\\(.*?\\)\", \"\", text)\n",
    "    \n",
    "    # remove brackets\n",
    "    text = re.sub(r\"\\[.*?\\]\", \"\", text)\n",
    "\n",
    "    # remove quotation marks\n",
    "    text = re.sub(r'(\\<|\\>|\"|“|”|„|»|«)*', \"\", text)\n",
    "\n",
    "    # remove http websites\n",
    "    text = re.sub(r\"(https?:\\/\\/)[a-zA-Z1-9_.@?=#\\/*]*\", \"\", text)\n",
    "\n",
    "    # remove other symbols\n",
    "    text = re.sub(r\"(\\*|\\+|@|#|:|;)*\", \"\", text)\n",
    "    \n",
    "    # remove parenthesis again\n",
    "    text = text.replace(\"(\", \"\").replace(\")\", \"\")\n",
    "\n",
    "    # trim extra whitespace\n",
    "    text = re.sub(r' {2,100}', \"\", text)\n",
    "\n",
    "    return text"
   ]
  },
  {
   "cell_type": "code",
   "execution_count": 11,
   "id": "da4edfeb-630c-4e5e-aefd-836695b7c432",
   "metadata": {},
   "outputs": [],
   "source": [
    "de_fr_df[\"de\"] = de_fr_df[\"de\"].apply(preprocess)\n",
    "de_fr_df[\"fr\"] = de_fr_df[\"fr\"].apply(preprocess)"
   ]
  },
  {
   "cell_type": "code",
   "execution_count": 12,
   "id": "3ed28aaa-ebe5-4270-8944-98acbb90e7bb",
   "metadata": {},
   "outputs": [],
   "source": [
    "def smart_truncate(content, length = 90, suffix = '.'):\n",
    "    if len(content) <= length:\n",
    "        return content\n",
    "    else:\n",
    "        return ' '.join(content[:length + 1].split(' ')[0:-1]) + suffix"
   ]
  },
  {
   "cell_type": "code",
   "execution_count": 13,
   "id": "2fee8683-5826-42cb-900a-6edaf8d5d7d1",
   "metadata": {},
   "outputs": [],
   "source": [
    "de_fr_df[\"de\"] = de_fr_df[\"de\"].apply(smart_truncate)\n",
    "de_fr_df[\"fr\"] = de_fr_df[\"fr\"].apply(smart_truncate)"
   ]
  },
  {
   "cell_type": "code",
   "execution_count": 13,
   "id": "105ec3e5-74c6-4ce5-a877-5d601d1da2c7",
   "metadata": {},
   "outputs": [],
   "source": [
    "de_fr_df = de_fr_df.dropna()\n",
    "de_fr_df = de_fr_df.drop_duplicates(subset = [\"de\"])\n",
    "\n",
    "# remove sequences too short\n",
    "de_fr_df = de_fr_df.drop(de_fr_df[de_fr_df['de'].map(len) < 3].index)\n",
    "de_fr_df = de_fr_df.drop(de_fr_df[de_fr_df['fr'].map(len) < 3].index)"
   ]
  },
  {
   "cell_type": "code",
   "execution_count": 28,
   "id": "178c31a9-3188-4cdd-8991-b86b3f2bd45a",
   "metadata": {},
   "outputs": [
    {
     "name": "stdout",
     "output_type": "stream",
     "text": [
      "165778\n"
     ]
    }
   ],
   "source": [
    "print(len(de_fr_df))"
   ]
  },
  {
   "cell_type": "code",
   "execution_count": 26,
   "id": "386e7bd0-7e20-4425-b517-516b5db95f9f",
   "metadata": {},
   "outputs": [],
   "source": [
    "def nltk_tokenize(text):\n",
    "    tokenized = word_tokenize(text)\n",
    "    if len(tokenized[-1]) != 1:\n",
    "        tokenized.append(\".\")\n",
    "    return \" \".join(tokenized)"
   ]
  },
  {
   "cell_type": "code",
   "execution_count": 29,
   "id": "07c901a4-8740-48ad-91a9-6fcdc32ae2d2",
   "metadata": {},
   "outputs": [],
   "source": [
    "de_fr_df[\"de\"] = de_fr_df[\"de\"].apply(nltk_tokenize)\n",
    "de_fr_df[\"fr\"] = de_fr_df[\"fr\"].apply(nltk_tokenize)"
   ]
  },
  {
   "cell_type": "code",
   "execution_count": 30,
   "id": "ac1627ee-f5b9-4518-81e7-f6fcd571f233",
   "metadata": {},
   "outputs": [],
   "source": [
    "# train test split\n",
    "\n",
    "de_fr_train, de_fr_test = train_test_split(de_fr_df, test_size = 0.3)"
   ]
  },
  {
   "cell_type": "code",
   "execution_count": 31,
   "id": "80f4c7f6-7f01-42ea-9d19-4adb697c29a6",
   "metadata": {},
   "outputs": [],
   "source": [
    "# write files\n",
    "\n",
    "with open(\"de-fr/parallel/train.de\", \"w\") as file:\n",
    "    for line in de_fr_train[\"de\"]:\n",
    "        file.write(line + \"\\n\")\n",
    "        \n",
    "with open(\"de-fr/parallel/train.fr\", \"w\") as file:\n",
    "    for line in de_fr_train[\"fr\"]:\n",
    "        file.write(line + \"\\n\")\n",
    "\n",
    "with open(\"de-fr/parallel/test.de\", \"w\") as file:\n",
    "    for line in de_fr_test[\"de\"]:\n",
    "        file.write(line + \"\\n\")\n",
    "        \n",
    "with open(\"de-fr/parallel/test.fr\", \"w\") as file:\n",
    "    for line in de_fr_test[\"fr\"]:\n",
    "        file.write(line + \"\\n\")"
   ]
  },
  {
   "cell_type": "code",
   "execution_count": null,
   "id": "0c2f57e4-fafe-4ee4-accd-61bffe85e51c",
   "metadata": {},
   "outputs": [],
   "source": []
  }
 ],
 "metadata": {
  "kernelspec": {
   "display_name": "Python 3 (ipykernel)",
   "language": "python",
   "name": "python3"
  },
  "language_info": {
   "codemirror_mode": {
    "name": "ipython",
    "version": 3
   },
   "file_extension": ".py",
   "mimetype": "text/x-python",
   "name": "python",
   "nbconvert_exporter": "python",
   "pygments_lexer": "ipython3",
   "version": "3.9.13"
  }
 },
 "nbformat": 4,
 "nbformat_minor": 5
}
