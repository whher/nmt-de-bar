{
 "cells": [
  {
   "cell_type": "code",
   "execution_count": null,
   "id": "ab35db47",
   "metadata": {},
   "outputs": [],
   "source": [
    "# Text preprocessing of parallel data for baseline training corpus"
   ]
  },
  {
   "cell_type": "code",
   "execution_count": 4,
   "id": "bc604900",
   "metadata": {},
   "outputs": [
    {
     "name": "stdout",
     "output_type": "stream",
     "text": [
      "Collecting nltk\n",
      "  Using cached nltk-3.7-py3-none-any.whl (1.5 MB)\n",
      "Requirement already satisfied: joblib in /opt/conda/lib/python3.9/site-packages (from nltk) (1.1.0)\n",
      "Requirement already satisfied: tqdm in /opt/conda/lib/python3.9/site-packages (from nltk) (4.64.0)\n",
      "Collecting regex>=2021.8.3\n",
      "  Using cached regex-2022.10.31-cp39-cp39-manylinux_2_17_x86_64.manylinux2014_x86_64.whl (769 kB)\n",
      "Requirement already satisfied: click in /opt/conda/lib/python3.9/site-packages (from nltk) (8.1.3)\n",
      "Installing collected packages: regex, nltk\n",
      "Successfully installed nltk-3.7 regex-2022.10.31\n",
      "['bar-de/raw/2_tatoeba.train.bar', 'bar-de/raw/0_tatoeba.dev.bar', 'bar-de/raw/3_Tatoeba.bar-de.bar', 'bar-de/raw/5_wiki_woerterbuch.bar', 'bar-de/raw/4_wikimedia.bar-de.bar', 'bar-de/raw/6_XLEnt.bar-de.bar', 'bar-de/raw/1_tatoeba.test.bar']\n",
      "['bar-de/raw/4_wikimedia.bar-de.de', 'bar-de/raw/1_tatoeba.test.de', 'bar-de/raw/0_tatoeba.dev.de', 'bar-de/raw/3_Tatoeba.bar-de.de', 'bar-de/raw/5_wiki_woerterbuch.de', 'bar-de/raw/2_tatoeba.train.de', 'bar-de/raw/6_XLEnt.bar-de.de']\n"
     ]
    }
   ],
   "source": [
    "import pandas as pd\n",
    "import seaborn as sns\n",
    "import glob\n",
    "import re\n",
    "import math\n",
    "from collections import Counter\n",
    "import numpy as np\n",
    "from sklearn.model_selection import train_test_split\n",
    "!pip install nltk\n",
    "from nltk.tokenize import word_tokenize\n",
    "\n",
    "# get all files based on language\n",
    "\n",
    "de_files = glob.glob('bar-de/raw/*.de')\n",
    "bar_files = glob.glob('bar-de/raw/*.bar')\n",
    "\n",
    "print(bar_files)\n",
    "print(de_files)"
   ]
  },
  {
   "cell_type": "code",
   "execution_count": 5,
   "id": "0f5fdca0",
   "metadata": {},
   "outputs": [
    {
     "name": "stdout",
     "output_type": "stream",
     "text": [
      "['bar-de/raw/0_tatoeba.dev.bar', 'bar-de/raw/1_tatoeba.test.bar', 'bar-de/raw/2_tatoeba.train.bar', 'bar-de/raw/3_Tatoeba.bar-de.bar', 'bar-de/raw/4_wikimedia.bar-de.bar', 'bar-de/raw/5_wiki_woerterbuch.bar', 'bar-de/raw/6_XLEnt.bar-de.bar']\n",
      "['bar-de/raw/0_tatoeba.dev.de', 'bar-de/raw/1_tatoeba.test.de', 'bar-de/raw/2_tatoeba.train.de', 'bar-de/raw/3_Tatoeba.bar-de.de', 'bar-de/raw/4_wikimedia.bar-de.de', 'bar-de/raw/5_wiki_woerterbuch.de', 'bar-de/raw/6_XLEnt.bar-de.de']\n"
     ]
    }
   ],
   "source": [
    "# reorder parallel files\n",
    "\n",
    "bar_files_reordered = sorted(bar_files)\n",
    "de_files_reordered = sorted(de_files)\n",
    "\n",
    "print(bar_files_reordered)\n",
    "print(de_files_reordered)"
   ]
  },
  {
   "cell_type": "code",
   "execution_count": 6,
   "id": "f5582e1e",
   "metadata": {},
   "outputs": [],
   "source": [
    "# read files into list as lines\n",
    "\n",
    "bar_lines = []\n",
    "\n",
    "for file in bar_files_reordered:\n",
    "    with open(file) as f:\n",
    "        for line in f.readlines():\n",
    "            bar_lines.append(line.rstrip(\" \\n\"))\n",
    "            \n",
    "de_lines = []\n",
    "\n",
    "for file in de_files_reordered:\n",
    "    with open(file) as f:\n",
    "        for line in f.readlines():\n",
    "            de_lines.append(line.rstrip(\" \\n\"))           "
   ]
  },
  {
   "cell_type": "code",
   "execution_count": 7,
   "id": "e4bb6a4e",
   "metadata": {},
   "outputs": [
    {
     "name": "stdout",
     "output_type": "stream",
     "text": [
      "Bavarian Parallel Lines 57944\n",
      "German Parallel Lines:  57944\n"
     ]
    }
   ],
   "source": [
    "# check no. of lines\n",
    "\n",
    "print(\"Bavarian Parallel Lines\", len(bar_lines))\n",
    "print(\"German Parallel Lines: \", len(de_lines))"
   ]
  },
  {
   "cell_type": "code",
   "execution_count": 8,
   "id": "8dbcd986",
   "metadata": {},
   "outputs": [
    {
     "name": "stdout",
     "output_type": "stream",
     "text": [
      "['Artikel im Tages - Anzeiger', 'englisch', 'Owa des lossat se nua mid an bessan Vaständniss vo da Quantenphysik eaklean.', 'Nach Beendigung der Förderung schenkte Mobil Oil den hier aufgestellten Pumpenbock der Gemeinde.', 'Da Ort is 822 easchtmois urkundlich ois perge cum basilica (Althochdeutsch/Vulgärlatein „Berg mit Kiach“) erwähnt wordn.']\n",
      "['Tages - Anzeiger', 'Portugiesisch', 'Awiz eχwamiz kwaþe: «Χertôn gaángwjedai mez seχwandi eχwanz gumanun akandun.»', 'Nach Beendigung der Förderung schenkte Mobil Oil den hier aufgestellten Pumpenbock der Gemeinde.', 'Der Ort wurde 822 erstmals urkundlich als perge cum basilica (Althochdeutsch/Vulgärlatein Berg mit Kirche) erwähnt.']\n"
     ]
    }
   ],
   "source": [
    "print(bar_lines[100:105])\n",
    "print(de_lines[100:105])"
   ]
  },
  {
   "cell_type": "code",
   "execution_count": 9,
   "id": "7ea6222f",
   "metadata": {},
   "outputs": [
    {
     "data": {
      "text/html": [
       "<div>\n",
       "<style scoped>\n",
       "    .dataframe tbody tr th:only-of-type {\n",
       "        vertical-align: middle;\n",
       "    }\n",
       "\n",
       "    .dataframe tbody tr th {\n",
       "        vertical-align: top;\n",
       "    }\n",
       "\n",
       "    .dataframe thead th {\n",
       "        text-align: right;\n",
       "    }\n",
       "</style>\n",
       "<table border=\"1\" class=\"dataframe\">\n",
       "  <thead>\n",
       "    <tr style=\"text-align: right;\">\n",
       "      <th></th>\n",
       "      <th>bar</th>\n",
       "      <th>de</th>\n",
       "    </tr>\n",
       "  </thead>\n",
       "  <tbody>\n",
       "    <tr>\n",
       "      <th>0</th>\n",
       "      <td>Da Thomas und seine Freind spün Fangerl.</td>\n",
       "      <td>Thomas und seine Freunde spielen fangen.</td>\n",
       "    </tr>\n",
       "    <tr>\n",
       "      <th>1</th>\n",
       "      <td>Fuffzig oda fuffzehn?</td>\n",
       "      <td>Hast du fünfzig oder fünfzehn gesagt?</td>\n",
       "    </tr>\n",
       "    <tr>\n",
       "      <th>2</th>\n",
       "      <td>Heit hob i goa ned gnapfitzt.</td>\n",
       "      <td>Heute habe ich kein Nickerchen gemacht.</td>\n",
       "    </tr>\n",
       "    <tr>\n",
       "      <th>3</th>\n",
       "      <td>Red do net so an Stüfi daher!</td>\n",
       "      <td>Red doch nicht so einen Stiefel daher!</td>\n",
       "    </tr>\n",
       "    <tr>\n",
       "      <th>4</th>\n",
       "      <td>Red do net so an Stuss zsamm!</td>\n",
       "      <td>Rede doch nicht so ’n Blech!</td>\n",
       "    </tr>\n",
       "  </tbody>\n",
       "</table>\n",
       "</div>"
      ],
      "text/plain": [
       "                                        bar  \\\n",
       "0  Da Thomas und seine Freind spün Fangerl.   \n",
       "1                     Fuffzig oda fuffzehn?   \n",
       "2             Heit hob i goa ned gnapfitzt.   \n",
       "3             Red do net so an Stüfi daher!   \n",
       "4             Red do net so an Stuss zsamm!   \n",
       "\n",
       "                                         de  \n",
       "0  Thomas und seine Freunde spielen fangen.  \n",
       "1     Hast du fünfzig oder fünfzehn gesagt?  \n",
       "2   Heute habe ich kein Nickerchen gemacht.  \n",
       "3    Red doch nicht so einen Stiefel daher!  \n",
       "4              Rede doch nicht so ’n Blech!  "
      ]
     },
     "execution_count": 9,
     "metadata": {},
     "output_type": "execute_result"
    }
   ],
   "source": [
    "# transform lists of lines into dataframe\n",
    "\n",
    "df = pd.DataFrame(bar_lines, columns = [\"bar\"])\n",
    "df[\"de\"] = de_lines\n",
    "df.head()"
   ]
  },
  {
   "cell_type": "code",
   "execution_count": 10,
   "id": "18fa80bc",
   "metadata": {},
   "outputs": [],
   "source": [
    "# text preprocessing\n",
    "\n",
    "def preprocess(text):\n",
    "    \n",
    "    text = str(text).lower()\n",
    "    \n",
    "    # remove parenthesized texts\n",
    "    text = re.sub(r\"\\(.*?\\)\", \"\", text)\n",
    "    \n",
    "    # remove brackets\n",
    "    text = re.sub(r\"\\[.*?\\]\", \"\", text)\n",
    "\n",
    "    # remove quotation marks\n",
    "    text = re.sub(r'(\\<|\\>|\"|“|”|„|»|«)*', \"\", text)\n",
    "\n",
    "    # remove http websites\n",
    "    text = re.sub(r\"(https?:\\/\\/)[a-zA-Z1-9_.@?=#\\/*]*\", \"\", text)\n",
    "\n",
    "    # remove other symbols\n",
    "    text = re.sub(r\"(\\*|\\+|@|#|:|;)*\", \"\", text)\n",
    "    \n",
    "    # remove parenthesis again\n",
    "    text = text.replace(\"(\", \"\").replace(\")\", \"\")\n",
    "\n",
    "    # trim extra whitespace\n",
    "    text = re.sub(r' {2,100}', \"\", text)\n",
    "\n",
    "    return text"
   ]
  },
  {
   "cell_type": "code",
   "execution_count": 11,
   "id": "0a598724",
   "metadata": {},
   "outputs": [],
   "source": [
    "df[\"bar\"] = df[\"bar\"].apply(preprocess)\n",
    "df[\"de\"] = df[\"de\"].apply(preprocess)"
   ]
  },
  {
   "cell_type": "code",
   "execution_count": 12,
   "id": "f5b32d0d",
   "metadata": {},
   "outputs": [],
   "source": [
    "# determine average length of lines\n",
    "def count_letters(text):\n",
    "    return len(text)\n",
    "\n",
    "df[\"letters\"] = df[\"bar\"].apply(count_letters)"
   ]
  },
  {
   "cell_type": "code",
   "execution_count": 13,
   "id": "79eabdce",
   "metadata": {},
   "outputs": [
    {
     "data": {
      "image/png": "[encoded data removed]",
      "text/plain": [
       "<Figure size 432x288 with 1 Axes>"
      ]
     },
     "metadata": {
      "image/png": {
       "height": 231,
       "width": 402
      },
      "needs_background": "light"
     },
     "output_type": "display_data"
    }
   ],
   "source": [
    "# plot length of lines\n",
    "sns.set_theme(style = \"whitegrid\")\n",
    "sns.set(rc = {'figure.figsize':(7, 11)})\n",
    "%config InlineBackend.figure_format = 'retina'\n",
    "\n",
    "ax = sns.boxplot(y = \"letters\", data = df)"
   ]
  },
  {
   "cell_type": "code",
   "execution_count": 14,
   "id": "37e90eb6",
   "metadata": {},
   "outputs": [],
   "source": [
    "# smart truncate sentences so that sentences are not too long\n",
    "# https://stackoverflow.com/questions/250357/truncate-a-string-without-ending-in-the-middle-of-a-word\n",
    "\n",
    "def smart_truncate(content, length = 90, suffix = '.'):\n",
    "    if len(content) <= length:\n",
    "        return content\n",
    "    else:\n",
    "        return ' '.join(content[:length + 1].split(' ')[0:-1]) + suffix\n",
    "    \n",
    "df[\"bar\"] = df[\"bar\"].apply(smart_truncate)\n",
    "df[\"de\"] = df[\"de\"].apply(smart_truncate)"
   ]
  },
  {
   "cell_type": "code",
   "execution_count": 15,
   "id": "e029d052",
   "metadata": {},
   "outputs": [],
   "source": [
    "# remove duplicates and empty lines\n",
    "df = df.dropna()\n",
    "df = df.drop_duplicates(subset = ['bar', \"de\"])"
   ]
  },
  {
   "cell_type": "code",
   "execution_count": 16,
   "id": "29d8cc3d",
   "metadata": {},
   "outputs": [],
   "source": [
    "# calculate cosine similarity\n",
    "# https://stackoverflow.com/questions/15173225/calculate-cosine-similarity-given-2-sentence-strings\n",
    "\n",
    "WORD = re.compile(r\"[^ ]\")\n",
    "\n",
    "def get_cosine(vec1, vec2):\n",
    "    intersection = set(vec1.keys()) & set(vec2.keys())\n",
    "    numerator = sum([vec1[x] * vec2[x] for x in intersection])\n",
    "\n",
    "    sum1 = sum([vec1[x] ** 2 for x in list(vec1.keys())])\n",
    "    sum2 = sum([vec2[x] ** 2 for x in list(vec2.keys())])\n",
    "    denominator = math.sqrt(sum1) * math.sqrt(sum2)\n",
    "\n",
    "    if not denominator:\n",
    "        return 0.0\n",
    "    else:\n",
    "        return float(numerator) / denominator\n",
    "\n",
    "def text_to_vector(text):\n",
    "    words = WORD.findall(text)\n",
    "    return Counter(words)"
   ]
  },
  {
   "cell_type": "code",
   "execution_count": 17,
   "id": "b1a29fa4",
   "metadata": {},
   "outputs": [],
   "source": [
    "cosine_values = []\n",
    "\n",
    "for i in range(len(df)):\n",
    "    text1 = df.iloc[i, 0] # bar\n",
    "    text2 = df.iloc[i, 1] # de\n",
    "    \n",
    "    vector1 = text_to_vector(text1)\n",
    "    vector2 = text_to_vector(text2)\n",
    "    cosine = get_cosine(vector1, vector2)\n",
    "    \n",
    "#     print(cosine)\n",
    "    cosine_values.append(cosine)"
   ]
  },
  {
   "cell_type": "code",
   "execution_count": 18,
   "id": "7b22492c",
   "metadata": {},
   "outputs": [
    {
     "data": {
      "text/html": [
       "<div>\n",
       "<style scoped>\n",
       "    .dataframe tbody tr th:only-of-type {\n",
       "        vertical-align: middle;\n",
       "    }\n",
       "\n",
       "    .dataframe tbody tr th {\n",
       "        vertical-align: top;\n",
       "    }\n",
       "\n",
       "    .dataframe thead th {\n",
       "        text-align: right;\n",
       "    }\n",
       "</style>\n",
       "<table border=\"1\" class=\"dataframe\">\n",
       "  <thead>\n",
       "    <tr style=\"text-align: right;\">\n",
       "      <th></th>\n",
       "      <th>bar</th>\n",
       "      <th>de</th>\n",
       "      <th>letters</th>\n",
       "      <th>cosine</th>\n",
       "    </tr>\n",
       "  </thead>\n",
       "  <tbody>\n",
       "    <tr>\n",
       "      <th>0</th>\n",
       "      <td>da thomas und seine freind spün fangerl.</td>\n",
       "      <td>thomas und seine freunde spielen fangen.</td>\n",
       "      <td>40</td>\n",
       "      <td>0.940939</td>\n",
       "    </tr>\n",
       "    <tr>\n",
       "      <th>1</th>\n",
       "      <td>fuffzig oda fuffzehn?</td>\n",
       "      <td>hast du fünfzig oder fünfzehn gesagt?</td>\n",
       "      <td>21</td>\n",
       "      <td>0.756304</td>\n",
       "    </tr>\n",
       "    <tr>\n",
       "      <th>2</th>\n",
       "      <td>heit hob i goa ned gnapfitzt.</td>\n",
       "      <td>heute habe ich kein nickerchen gemacht.</td>\n",
       "      <td>29</td>\n",
       "      <td>0.681506</td>\n",
       "    </tr>\n",
       "    <tr>\n",
       "      <th>3</th>\n",
       "      <td>red do net so an stüfi daher!</td>\n",
       "      <td>red doch nicht so einen stiefel daher!</td>\n",
       "      <td>29</td>\n",
       "      <td>0.878350</td>\n",
       "    </tr>\n",
       "    <tr>\n",
       "      <th>4</th>\n",
       "      <td>red do net so an stuss zsamm!</td>\n",
       "      <td>rede doch nicht so ’n blech!</td>\n",
       "      <td>29</td>\n",
       "      <td>0.521648</td>\n",
       "    </tr>\n",
       "  </tbody>\n",
       "</table>\n",
       "</div>"
      ],
      "text/plain": [
       "                                        bar  \\\n",
       "0  da thomas und seine freind spün fangerl.   \n",
       "1                     fuffzig oda fuffzehn?   \n",
       "2             heit hob i goa ned gnapfitzt.   \n",
       "3             red do net so an stüfi daher!   \n",
       "4             red do net so an stuss zsamm!   \n",
       "\n",
       "                                         de  letters    cosine  \n",
       "0  thomas und seine freunde spielen fangen.       40  0.940939  \n",
       "1     hast du fünfzig oder fünfzehn gesagt?       21  0.756304  \n",
       "2   heute habe ich kein nickerchen gemacht.       29  0.681506  \n",
       "3    red doch nicht so einen stiefel daher!       29  0.878350  \n",
       "4              rede doch nicht so ’n blech!       29  0.521648  "
      ]
     },
     "execution_count": 18,
     "metadata": {},
     "output_type": "execute_result"
    }
   ],
   "source": [
    "df[\"cosine\"] = cosine_values\n",
    "df.head()"
   ]
  },
  {
   "cell_type": "code",
   "execution_count": 19,
   "id": "5dd2d01f",
   "metadata": {},
   "outputs": [
    {
     "data": {
      "image/png": "[encoded data removed]",
      "text/plain": [
       "<Figure size 504x792 with 1 Axes>"
      ]
     },
     "metadata": {
      "image/png": {
       "height": 612,
       "width": 447
      }
     },
     "output_type": "display_data"
    }
   ],
   "source": [
    "sns.set_theme(style = \"whitegrid\")\n",
    "sns.set(rc = {'figure.figsize':(7, 11)})\n",
    "ax = sns.boxplot(y = \"cosine\", data = df)"
   ]
  },
  {
   "cell_type": "code",
   "execution_count": 20,
   "id": "8ebb538a",
   "metadata": {},
   "outputs": [
    {
     "name": "stdout",
     "output_type": "stream",
     "text": [
      "Length Dataframe (cosine similarity): 42266\n"
     ]
    }
   ],
   "source": [
    "# remove rows with less probability of parallelity\n",
    "# which is the long tail of the whisker plot\n",
    "df = df[df[\"cosine\"] > 0.48]\n",
    "print(\"Length Dataframe (cosine similarity):\", len(df))"
   ]
  },
  {
   "cell_type": "code",
   "execution_count": 21,
   "id": "2e17aed9",
   "metadata": {},
   "outputs": [],
   "source": [
    "# tokenize texts\n",
    "def nltk_tokenize(text):\n",
    "    tokenized = word_tokenize(text)\n",
    "    if len(tokenized[-1]) != 1:\n",
    "        tokenized.append(\".\")\n",
    "    return \" \".join(tokenized)\n",
    "\n",
    "df[\"bar\"] = df[\"bar\"].apply(nltk_tokenize)\n",
    "df[\"de\"] = df[\"de\"].apply(nltk_tokenize)"
   ]
  },
  {
   "cell_type": "code",
   "execution_count": 22,
   "id": "5df353ad-0435-40c2-b47e-06d53c252306",
   "metadata": {},
   "outputs": [
    {
     "data": {
      "text/html": [
       "<div>\n",
       "<style scoped>\n",
       "    .dataframe tbody tr th:only-of-type {\n",
       "        vertical-align: middle;\n",
       "    }\n",
       "\n",
       "    .dataframe tbody tr th {\n",
       "        vertical-align: top;\n",
       "    }\n",
       "\n",
       "    .dataframe thead th {\n",
       "        text-align: right;\n",
       "    }\n",
       "</style>\n",
       "<table border=\"1\" class=\"dataframe\">\n",
       "  <thead>\n",
       "    <tr style=\"text-align: right;\">\n",
       "      <th></th>\n",
       "      <th>bar</th>\n",
       "      <th>de</th>\n",
       "      <th>letters</th>\n",
       "      <th>cosine</th>\n",
       "    </tr>\n",
       "  </thead>\n",
       "  <tbody>\n",
       "    <tr>\n",
       "      <th>0</th>\n",
       "      <td>da espace middllandis a grossregion in da schw...</td>\n",
       "      <td>der espace mittelland ist eine grossregion in ...</td>\n",
       "      <td>50</td>\n",
       "      <td>0.870844</td>\n",
       "    </tr>\n",
       "    <tr>\n",
       "      <th>1</th>\n",
       "      <td>juli 2009 bis zum 10 .</td>\n",
       "      <td>2009 bis dez .</td>\n",
       "      <td>21</td>\n",
       "      <td>0.747265</td>\n",
       "    </tr>\n",
       "    <tr>\n",
       "      <th>2</th>\n",
       "      <td>band 50 , iberoamericana/vervuert , frankfurt ...</td>\n",
       "      <td>band 50. iberoamericana/vervuert , frankfurt a...</td>\n",
       "      <td>124</td>\n",
       "      <td>0.996198</td>\n",
       "    </tr>\n",
       "    <tr>\n",
       "      <th>3</th>\n",
       "      <td>johann jakob wicks nachrichtensammlung .</td>\n",
       "      <td>johann jakob wicks nachrichtensammlung .</td>\n",
       "      <td>38</td>\n",
       "      <td>1.000000</td>\n",
       "    </tr>\n",
       "    <tr>\n",
       "      <th>4</th>\n",
       "      <td>wagenbach , berlin 2001 .</td>\n",
       "      <td>wagenbach , berlin 2001 .</td>\n",
       "      <td>23</td>\n",
       "      <td>1.000000</td>\n",
       "    </tr>\n",
       "  </tbody>\n",
       "</table>\n",
       "</div>"
      ],
      "text/plain": [
       "                                                 bar  \\\n",
       "0  da espace middllandis a grossregion in da schw...   \n",
       "1                             juli 2009 bis zum 10 .   \n",
       "2  band 50 , iberoamericana/vervuert , frankfurt ...   \n",
       "3           johann jakob wicks nachrichtensammlung .   \n",
       "4                          wagenbach , berlin 2001 .   \n",
       "\n",
       "                                                  de  letters    cosine  \n",
       "0  der espace mittelland ist eine grossregion in ...       50  0.870844  \n",
       "1                                     2009 bis dez .       21  0.747265  \n",
       "2  band 50. iberoamericana/vervuert , frankfurt a...      124  0.996198  \n",
       "3           johann jakob wicks nachrichtensammlung .       38  1.000000  \n",
       "4                          wagenbach , berlin 2001 .       23  1.000000  "
      ]
     },
     "execution_count": 22,
     "metadata": {},
     "output_type": "execute_result"
    }
   ],
   "source": [
    "df = df.sample(frac = 1).reset_index(drop = True)\n",
    "df.head()"
   ]
  },
  {
   "cell_type": "code",
   "execution_count": 23,
   "id": "1ef31f55-901d-49bf-b8f5-7defa685a995",
   "metadata": {},
   "outputs": [],
   "source": [
    "df1, df2, df3, df4, df5 = np.array_split(df, 5)"
   ]
  },
  {
   "cell_type": "code",
   "execution_count": 26,
   "id": "1bf0c969-ba76-4c03-a9cd-e405f86158f0",
   "metadata": {},
   "outputs": [
    {
     "name": "stdout",
     "output_type": "stream",
     "text": [
      "df1 length:  8454\n",
      "df2 length:  8453\n",
      "df3 length:  8453\n",
      "df4 length:  8453\n",
      "df5 length:  8453\n"
     ]
    }
   ],
   "source": [
    "print(\"df1 length: \", len(df1))\n",
    "print(\"df2 length: \", len(df2))\n",
    "print(\"df3 length: \", len(df3))\n",
    "print(\"df4 length: \", len(df4))\n",
    "print(\"df5 length: \", len(df5))"
   ]
  },
  {
   "cell_type": "code",
   "execution_count": 27,
   "id": "ee002d3f",
   "metadata": {},
   "outputs": [],
   "source": [
    "with open(\"bar-de/cv/bar-1\", \"w\") as file:\n",
    "    for line in df1[\"bar\"]:\n",
    "        file.write(line + \"\\n\")\n",
    "        \n",
    "with open(\"bar-de/cv/bar-2\", \"w\") as file:\n",
    "    for line in df2[\"bar\"]:\n",
    "        file.write(line + \"\\n\")\n",
    "\n",
    "with open(\"bar-de/cv/bar-3\", \"w\") as file:\n",
    "    for line in df3[\"bar\"]:\n",
    "        file.write(line + \"\\n\")\n",
    "        \n",
    "with open(\"bar-de/cv/bar-4\", \"w\") as file:\n",
    "    for line in df4[\"bar\"]:\n",
    "        file.write(line + \"\\n\")\n",
    "        \n",
    "with open(\"bar-de/cv/bar-5\", \"w\") as file:\n",
    "    for line in df5[\"bar\"]:\n",
    "        file.write(line + \"\\n\")\n",
    "\n",
    "# for de\n",
    "        \n",
    "with open(\"bar-de/cv/de-1\", \"w\") as file:\n",
    "    for line in df1[\"de\"]:\n",
    "        file.write(line + \"\\n\")\n",
    "        \n",
    "with open(\"bar-de/cv/de-2\", \"w\") as file:\n",
    "    for line in df2[\"de\"]:\n",
    "        file.write(line + \"\\n\")\n",
    "\n",
    "with open(\"bar-de/cv/de-3\", \"w\") as file:\n",
    "    for line in df3[\"de\"]:\n",
    "        file.write(line + \"\\n\")\n",
    "        \n",
    "with open(\"bar-de/cv/de-4\", \"w\") as file:\n",
    "    for line in df4[\"de\"]:\n",
    "        file.write(line + \"\\n\")\n",
    "        \n",
    "with open(\"bar-de/cv/de-5\", \"w\") as file:\n",
    "    for line in df5[\"de\"]:\n",
    "        file.write(line + \"\\n\")"
   ]
  },
  {
   "cell_type": "code",
   "execution_count": null,
   "id": "25f83fd5-770e-43a5-9ccd-2d295d182b36",
   "metadata": {},
   "outputs": [],
   "source": []
  }
 ],
 "metadata": {
  "kernelspec": {
   "display_name": "Python 3 (ipykernel)",
   "language": "python",
   "name": "python3"
  },
  "language_info": {
   "codemirror_mode": {
    "name": "ipython",
    "version": 3
   },
   "file_extension": ".py",
   "mimetype": "text/x-python",
   "name": "python",
   "nbconvert_exporter": "python",
   "pygments_lexer": "ipython3",
   "version": "3.9.13"
  },
  "metadata": {
   "interpreter": {
    "hash": "5d95d1a7b714766f5aca166576e4e0ca9059ffeb7e5419bc7c78e89e5f45b69b"
   }
  }
 },
 "nbformat": 4,
 "nbformat_minor": 5
}
